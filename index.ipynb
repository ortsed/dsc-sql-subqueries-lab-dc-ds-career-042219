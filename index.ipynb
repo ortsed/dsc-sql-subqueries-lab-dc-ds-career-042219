{
 "cells": [
  {
   "cell_type": "markdown",
   "metadata": {},
   "source": [
    "# SQL Subqueries - Lab\n",
    "\n",
    "## Introduction\n",
    "\n",
    "Now that you've seen how subqueries work, it's time to get some practice writing them! Not all of the queries will require subqueries, but all will be a bit more complex and require some thought and review about aggregates, grouping, ordering, filtering, joins and subqueries. Good luck!  \n",
    "\n",
    "## Objectives\n",
    "\n",
    "You will be able to:\n",
    "\n",
    "* Write subqueries to decompose complex queries\n",
    "\n",
    "## CRM Database Schema\n",
    "\n",
    "Once again, here's the schema for the CRM database you'll continue to practice with.\n",
    "\n",
    "<img src=\"images/Database-Schema.png\" width=\"600\">\n",
    "\n",
    "## Connect to the Database\n",
    "\n",
    "As usual, start by importing the necessary packages and connecting to the database **data.sqlite**."
   ]
  },
  {
   "cell_type": "code",
   "execution_count": 2,
   "metadata": {},
   "outputs": [],
   "source": [
    "#Your code here; import the necessary packages\n",
    "import sqlite3\n",
    "con = sqlite3.connect(\"data.sqlite\")\n",
    "c = con.cursor()"
   ]
  },
  {
   "cell_type": "code",
   "execution_count": 3,
   "metadata": {},
   "outputs": [],
   "source": [
    "#Your code here; create the connection and cursor\n",
    "conn = sqlite3.connect('data.sqlite')\n",
    "c = conn.cursor()"
   ]
  },
  {
   "cell_type": "markdown",
   "metadata": {},
   "source": [
    "## Select the Average Number of Orders on a Product by Product Basis"
   ]
  },
  {
   "cell_type": "code",
   "execution_count": 4,
   "metadata": {},
   "outputs": [
    {
     "data": {
      "text/plain": [
       "[(27.486238532110093,)]"
      ]
     },
     "execution_count": 4,
     "metadata": {},
     "output_type": "execute_result"
    }
   ],
   "source": [
    "#Your code here; use a subquery. No join will be necessary.\n",
    "c.execute('''select AVG(average) from (SELECT count(*) as average from orderDetails group by productCode)     ''').fetchall()\n",
    "\n",
    "\n"
   ]
  },
  {
   "cell_type": "markdown",
   "metadata": {},
   "source": [
    "## Write an Equivalent Query using a Subquery\n",
    "\n",
    "```SQL\n",
    "select customerNumber,\n",
    "       contactLastName,\n",
    "       contactFirstName\n",
    "       from customers\n",
    "       join orders \n",
    "       using(customerNumber)\n",
    "       where orderDate = '2003-01-31';\n",
    "```"
   ]
  },
  {
   "cell_type": "code",
   "execution_count": 5,
   "metadata": {},
   "outputs": [
    {
     "data": {
      "text/plain": [
       "[('141', 'Freyre', 'Diego ')]"
      ]
     },
     "execution_count": 5,
     "metadata": {},
     "output_type": "execute_result"
    }
   ],
   "source": [
    "#Your code here; use a subquery. No join will be necessary.\n",
    "\n",
    "c.execute( \"\"\" select customerNumber,\n",
    "       contactLastName,\n",
    "       contactFirstName\n",
    "       from customers\n",
    "       join orders \n",
    "       using(customerNumber)\n",
    "       where orderDate = '2003-01-31';\"\"\").fetchall()"
   ]
  },
  {
   "cell_type": "markdown",
   "metadata": {},
   "source": [
    "## Select the Total Number of Orders for Each Product Name\n",
    "\n",
    "Sort the results by the total number of items sold for that product."
   ]
  },
  {
   "cell_type": "code",
   "execution_count": 6,
   "metadata": {},
   "outputs": [
    {
     "data": {
      "text/plain": [
       "[('1992 Ferrari 360 Spider red', 53),\n",
       " ('1969 Harley Davidson Ultimate Chopper', 28),\n",
       " ('1952 Alpine Renault 1300', 28),\n",
       " ('1996 Moto Guzzi 1100i', 28),\n",
       " ('2003 Harley-Davidson Eagle Drag Bike', 28),\n",
       " ('1972 Alfa Romeo GTA', 28),\n",
       " ('1962 LanciaA Delta 16V', 28),\n",
       " ('1958 Setra Bus', 28),\n",
       " ('2002 Suzuki XREO', 28),\n",
       " ('1957 Chevy Pickup', 28),\n",
       " ('1940 Ford Pickup Truck', 28),\n",
       " ('1937 Lincoln Berline', 28),\n",
       " ('1936 Mercedes-Benz 500K Special Roadster', 28),\n",
       " ('1980s Black Hawk Helicopter', 28),\n",
       " ('1998 Chrysler Plymouth Prowler', 28),\n",
       " ('1964 Mercedes Tour Bus', 28),\n",
       " ('1932 Model A Ford J-Coupe', 28),\n",
       " ('1926 Ford Fire Engine', 28),\n",
       " ('P-51-D Mustang', 28),\n",
       " ('1936 Harley Davidson El Knucklehead', 28),\n",
       " ('1928 Mercedes-Benz SSK', 28),\n",
       " ('1913 Ford Model T Speedster', 28),\n",
       " ('1934 Ford V8 Coupe', 28),\n",
       " ('1999 Yamaha Speed Boat', 28),\n",
       " ('18th Century Vintage Horse Carriage', 28),\n",
       " ('1917 Maxwell Touring Car', 28),\n",
       " ('1941 Chevrolet Special Deluxe Cabriolet', 28),\n",
       " ('1940s Ford truck', 28),\n",
       " ('1939 Cadillac Limousine', 28),\n",
       " ('1970 Dodge Coronet', 28),\n",
       " ('1997 BMW R 1100 S', 28),\n",
       " ('1928 British Royal Navy Airplane', 28),\n",
       " ('1939 Chevrolet Deluxe Coupe', 28),\n",
       " ('1960 BSA Gold Star DBD34', 28),\n",
       " ('1938 Cadillac V-16 Presidential Limousine', 28),\n",
       " ('1962 Volkswagen Microbus', 28),\n",
       " ('1958 Chevy Corvette Limited Edition', 28),\n",
       " ('1900s Vintage Bi-Plane', 28),\n",
       " ('1937 Horch 930V Limousine', 28),\n",
       " ('1940 Ford Delivery Sedan', 28),\n",
       " ('Corsair F4U ( Bird Cage)', 28),\n",
       " ('1936 Chrysler Airflow', 28),\n",
       " ('1900s Vintage Tri-Plane', 28),\n",
       " ('1980’s GM Manhattan Express', 28),\n",
       " ('1997 BMW F650 ST', 28),\n",
       " ('1954 Greyhound Scenicruiser', 28),\n",
       " ('1996 Peterbilt 379 Stake Bed with Outrigger', 28),\n",
       " ('1928 Ford Phaeton Deluxe', 28),\n",
       " ('1930 Buick Marquette Phaeton', 28),\n",
       " ('Diamond T620 Semi-Skirted Tanker', 28),\n",
       " ('American Airlines: B767-300', 28),\n",
       " ('HMS Bounty', 28),\n",
       " ('America West Airlines B757-200', 28),\n",
       " ('1982 Camaro Z28', 28),\n",
       " ('ATA: B757-300', 28),\n",
       " ('F/A 18 Hornet 1/72', 28),\n",
       " ('American Airlines: MD-11S', 28),\n",
       " ('Boeing X-32A JSF', 28),\n",
       " ('1968 Ford Mustang', 27),\n",
       " ('2001 Ferrari Enzo', 27),\n",
       " ('1969 Corvair Monza', 27),\n",
       " ('1968 Dodge Charger', 27),\n",
       " ('1969 Ford Falcon', 27),\n",
       " ('1970 Plymouth Hemi Cuda', 27),\n",
       " ('1969 Dodge Charger', 27),\n",
       " ('1993 Mazda RX-7', 27),\n",
       " ('1948 Porsche 356-A Roadster', 27),\n",
       " ('1995 Honda Civic', 27),\n",
       " ('1903 Ford Model A', 27),\n",
       " ('Collectable Wooden Train', 27),\n",
       " ('1969 Dodge Super Bee', 27),\n",
       " ('1976 Ford Gran Torino', 27),\n",
       " ('1957 Vespa GS150', 27),\n",
       " ('1970 Triumph Spitfire', 27),\n",
       " ('1904 Buick Runabout', 27),\n",
       " ('1957 Corvette Convertible', 27),\n",
       " ('18th century schooner', 27),\n",
       " ('1982 Ducati 900 Monster', 27),\n",
       " ('1982 Lamborghini Diablo', 27),\n",
       " ('1912 Ford Model T Delivery Wagon', 27),\n",
       " ('1971 Alpine Renault 1600s', 27),\n",
       " ('1956 Porsche 356A Coupe', 27),\n",
       " ('1992 Porsche Cayenne Turbo Silver', 27),\n",
       " ('1961 Chevrolet Impala', 27),\n",
       " ('1982 Ducati 996 R', 27),\n",
       " (\"1950's Chicago Surface Lines Streetcar\", 27),\n",
       " ('1974 Ducati 350 Mk3 Desmo', 27),\n",
       " ('1962 City of Detroit Streetcar', 27),\n",
       " ('2002 Yamaha YZR M1', 27),\n",
       " ('The Schooner Bluenose', 27),\n",
       " ('The Mayflower', 27),\n",
       " ('The USS Constitution Ship', 27),\n",
       " ('The Titanic', 27),\n",
       " ('The Queen Mary', 27),\n",
       " ('Pont Yacht', 27),\n",
       " ('1965 Aston Martin DB5', 25),\n",
       " ('1917 Grand Touring Sedan', 25),\n",
       " ('1911 Ford Town Car', 25),\n",
       " ('1999 Indy 500 Monte Carlo SS', 25),\n",
       " ('1948 Porsche Type 356 Roadster', 25),\n",
       " ('1932 Alfa Romeo 8C2300 Spider Sport', 25),\n",
       " ('1970 Chevy Chevelle SS 454', 25),\n",
       " ('1966 Shelby Cobra 427 S/C', 25),\n",
       " ('1949 Jaguar XK 120', 25),\n",
       " ('1969 Chevrolet Camaro Z28', 25),\n",
       " ('2002 Chevy Corvette', 25),\n",
       " ('1936 Mercedes Benz 500k Roadster', 25),\n",
       " ('1957 Ford Thunderbird', 24),\n",
       " ('1952 Citroen-15CV', 24)]"
      ]
     },
     "execution_count": 6,
     "metadata": {},
     "output_type": "execute_result"
    }
   ],
   "source": [
    "#Your code here\n",
    "#c.execute('''select total, productCode from (SELECT count(*) as total, \n",
    "#             productCode from orderDetails group by productCode) order by total;     ''').fetchall()\n",
    "\n",
    "\n",
    "\n",
    "c.execute(''' select p.productName, count(*) as total from \n",
    "              orders o,\n",
    "              orderDetails od,\n",
    "              products p \n",
    "              where (od.orderNumber=o.orderNumber and\n",
    "                     p.productCode=od.productCode)\n",
    "              group by p.productCode\n",
    "              order by total DESC;     ''').fetchall()"
   ]
  },
  {
   "cell_type": "markdown",
   "metadata": {},
   "source": [
    "## Select the Product Name and the  Total Number of People Who Have Ordered Each Product\n",
    "\n",
    "Sort the results in descending order."
   ]
  },
  {
   "cell_type": "code",
   "execution_count": 7,
   "metadata": {},
   "outputs": [
    {
     "data": {
      "text/plain": [
       "[('Euro+ Shopping Channel', '1982 Camaro Z28', 259),\n",
       " ('Mini Gifts Distributors Ltd.',\n",
       "  '1938 Cadillac V-16 Presidential Limousine',\n",
       "  180),\n",
       " ('Australian Collectors, Co.', '1940s Ford truck', 55),\n",
       " ('La Rochelle Gifts', 'Diamond T620 Semi-Skirted Tanker', 53),\n",
       " ('AV Stores, Co.', '1936 Mercedes Benz 500k Roadster', 51),\n",
       " ('Land of Toys Inc.', 'Boeing X-32A JSF', 49),\n",
       " ('Muscle Machine Inc', '1954 Greyhound Scenicruiser', 48),\n",
       " ('Rovelli Gifts', 'American Airlines: MD-11S', 48),\n",
       " (\"Kelly's Gift Shop\", '1997 BMW F650 ST', 48),\n",
       " (\"Anna's Decorations, Ltd\", '1938 Cadillac V-16 Presidential Limousine', 46),\n",
       " ('Souveniers And Things Co.', '1936 Mercedes Benz 500k Roadster', 46),\n",
       " ('Down Under Souveniers, Inc', '1961 Chevrolet Impala', 46),\n",
       " ('Dragon Souveniers, Ltd.', '1997 BMW F650 ST', 43),\n",
       " ('Saveley & Henriot, Co.', '1936 Mercedes Benz 500k Roadster', 41),\n",
       " ('Corporate Gift Ideas Co.', 'The Mayflower', 41),\n",
       " ('Reims Collectables', 'Boeing X-32A JSF', 41),\n",
       " ('Salzburg Collectables', '1956 Porsche 356A Coupe', 40),\n",
       " ('The Sharp Gifts Warehouse', '2002 Chevy Corvette', 40),\n",
       " (\"L'ordine Souveniers\", 'American Airlines: MD-11S', 39),\n",
       " ('Scandinavian Gift Ideas', '1960 BSA Gold Star DBD34', 38),\n",
       " ('Danish Wholesale Imports', '1948 Porsche Type 356 Roadster', 36),\n",
       " ('Handji Gifts& Co', '1939 Chevrolet Deluxe Coupe', 36),\n",
       " ('Mini Creations Ltd.', '2002 Yamaha YZR M1', 35),\n",
       " ('Technics Stores Inc.', '1997 BMW R 1100 S', 34),\n",
       " ('Online Diecast Creations Co.',\n",
       "  '1938 Cadillac V-16 Presidential Limousine',\n",
       "  34),\n",
       " ('Baane Mini Imports', '1962 City of Detroit Streetcar', 32),\n",
       " ('Oulu Toy Supplies, Inc.', 'Pont Yacht', 32),\n",
       " ('Tokyo Collectables, Ltd', '1936 Mercedes Benz 500k Roadster', 32),\n",
       " ('Corrida Auto Replicas, Ltd', '1982 Camaro Z28', 32),\n",
       " ('Diecast Classics Inc.', '1936 Mercedes-Benz 500K Special Roadster', 31),\n",
       " ('Vida Sport, Ltd', '1961 Chevrolet Impala', 31),\n",
       " ('Toys of Finland, Co.', '1992 Ferrari 360 Spider red', 30),\n",
       " ('Toys4GrownUps.com', '1982 Lamborghini Diablo', 30),\n",
       " ('Suominen Souveniers', '1997 BMW F650 ST', 30),\n",
       " ('Signal Gift Stores', '1936 Mercedes Benz 500k Roadster', 29),\n",
       " ('Herkku Gifts', '1938 Cadillac V-16 Presidential Limousine', 29),\n",
       " ('UK Collectables, Ltd.', '2002 Yamaha YZR M1', 29),\n",
       " ('Extreme Desk Decorations, Ltd', '2002 Yamaha YZR M1', 29),\n",
       " ('Heintze Collectables', 'The Mayflower', 27),\n",
       " (\"Marta's Replicas Co.\", 'Diamond T620 Semi-Skirted Tanker', 27),\n",
       " ('Auto Canal+ Petit', '1960 BSA Gold Star DBD34', 27),\n",
       " ('giftsbymail.co.uk', 'Boeing X-32A JSF', 26),\n",
       " ('Amica Models & Co.', 'Pont Yacht', 26),\n",
       " ('Toms Spezialitäten, Ltd', '1982 Ducati 996 R', 26),\n",
       " ('Royal Canadian Collectables, Ltd.', 'Pont Yacht', 26),\n",
       " ('Mini Classics', 'American Airlines: MD-11S', 26),\n",
       " ('Stylish Desk Decors, Co.', 'Corsair F4U ( Bird Cage)', 26),\n",
       " ('GiftsForHim.com', '1936 Chrysler Airflow', 26),\n",
       " ('Gifts4AllAges.com', 'Pont Yacht', 26),\n",
       " ('Cruz & Sons Co.', '1982 Ducati 900 Monster', 26),\n",
       " ('FunGiftIdeas.com', 'ATA: B757-300', 26),\n",
       " ('Gift Depot Inc.', '1962 City of Detroit Streetcar', 25),\n",
       " ('Vitachrome Inc.', '1982 Camaro Z28', 25),\n",
       " ('Collectable Mini Designs Co.', '2002 Chevy Corvette', 25),\n",
       " ('Petit Auto', '1936 Chrysler Airflow', 25),\n",
       " ('Marseille Mini Autos', '1982 Ducati 996 R', 25),\n",
       " ('Norway Gifts By Mail, Co.', '1956 Porsche 356A Coupe', 24),\n",
       " ('Collectables For Less Inc.', '1936 Chrysler Airflow', 24),\n",
       " (\"La Corne D'abondance, Co.\", '1982 Camaro Z28', 23),\n",
       " ('Enaco Distributors', 'ATA: B757-300', 23),\n",
       " ('Australian Collectables, Ltd', 'Boeing X-32A JSF', 23),\n",
       " ('Motor Mint Distributors Inc.', '2002 Yamaha YZR M1', 23),\n",
       " ('Blauer See Auto, Co.', '1940s Ford truck', 22),\n",
       " ('Canadian Gift Exchange Network', '1982 Camaro Z28', 22),\n",
       " ('Québec Home Shopping Network', '1982 Camaro Z28', 22),\n",
       " ('Mini Wheels Co.', '1996 Peterbilt 379 Stake Bed with Outrigger', 21),\n",
       " ('Tekni Collectables Inc.', 'American Airlines: MD-11S', 21),\n",
       " ('Classic Gift Ideas, Inc', 'Boeing X-32A JSF', 21),\n",
       " ('Daedalus Designs Imports', '2002 Yamaha YZR M1', 20),\n",
       " ('Osaka Souveniers Co.', '1948 Porsche Type 356 Roadster', 20),\n",
       " ('Alpha Cognac', 'Pont Yacht', 20),\n",
       " ('Lyon Souveniers', '1962 City of Detroit Streetcar', 20),\n",
       " ('Classic Legends Inc.', 'Pont Yacht', 20),\n",
       " ('Volvo Model Replicas, Co', '1962 Volkswagen Microbus', 19),\n",
       " ('Mini Caravy', '1956 Porsche 356A Coupe', 19),\n",
       " ('Gift Ideas Corp.', 'F/A 18 Hornet 1/72', 19),\n",
       " ('Auto Associés & Cie.', '1982 Camaro Z28', 18),\n",
       " ('Diecast Collectables', '1939 Chevrolet Deluxe Coupe', 18),\n",
       " ('Super Scale Inc.', '1982 Camaro Z28', 17),\n",
       " ('Clover Collections, Co.', 'ATA: B757-300', 16),\n",
       " ('King Kong Collectables, Co.', 'ATA: B757-300', 16),\n",
       " ('Online Mini Collectables', 'The Queen Mary', 15),\n",
       " ('Australian Gift Network, Co', '1928 British Royal Navy Airplane', 15),\n",
       " ('Mini Auto Werke', '1917 Maxwell Touring Car', 15),\n",
       " ('Iberia Gift Imports, Corp.', '1936 Mercedes Benz 500k Roadster', 15),\n",
       " ('Signal Collectibles Ltd.', '1954 Greyhound Scenicruiser', 15),\n",
       " (\"Men 'R' US Retailers, Ltd.\", 'Boeing X-32A JSF', 14),\n",
       " ('Bavarian Collectables Imports, Co.', 'Boeing X-32A JSF', 14),\n",
       " ('CAF Imports', '1969 Ford Falcon', 13),\n",
       " ('West Coast Collectables Co.', '1936 Chrysler Airflow', 13),\n",
       " ('Double Decker Gift Stores, Ltd', '1952 Citroen-15CV', 12),\n",
       " ('Cambridge Collectables Co.', 'Boeing X-32A JSF', 11),\n",
       " ('Microscale Inc.', '2002 Yamaha YZR M1', 10),\n",
       " ('Auto-Moto Classics Inc.', 'Boeing X-32A JSF', 8),\n",
       " ('Royale Belge', '1992 Ferrari 360 Spider red', 8),\n",
       " ('Frau da Collezione', '1992 Ferrari 360 Spider red', 8),\n",
       " ('Atelier graphique', '1938 Cadillac V-16 Presidential Limousine', 7),\n",
       " ('Boards & Toys Co.', '1968 Dodge Charger', 3)]"
      ]
     },
     "execution_count": 7,
     "metadata": {},
     "output_type": "execute_result"
    }
   ],
   "source": [
    "#Your code herse\n",
    "#Your code here\n",
    "c.execute(''' select c.customerName, p.productName, count(*) as total from \n",
    "              customers c, \n",
    "              orders o,\n",
    "              orderDetails od,\n",
    "              products p \n",
    "              where (od.orderNumber=o.orderNumber and\n",
    "                     c.customerNumber=o.customerNumber and\n",
    "                     p.productCode=od.productCode)\n",
    "              group by c.customerNumber\n",
    "              order by total DESC;     ''').fetchall()\n"
   ]
  },
  {
   "cell_type": "markdown",
   "metadata": {},
   "source": [
    "## Select the Employee Number, Office Code, City (of the office), and Name (First and Last) of those Employees who Sold Products that Have Been Ordered by Less Then 20 people.\n",
    "\n",
    "This problem is a bit tougher. To start, think about how you might break the problem up. Be sure that your results only list each employee once."
   ]
  },
  {
   "cell_type": "code",
   "execution_count": 8,
   "metadata": {},
   "outputs": [
    {
     "data": {
      "text/plain": [
       "[('1370', '4', 'Paris', 'Gerard', 'Hernandez'),\n",
       " ('1501', '7', 'London', 'Larry', 'Bott'),\n",
       " ('1337', '4', 'Paris', 'Loui', 'Bondur'),\n",
       " ('1166', '1', 'San Francisco', 'Leslie', 'Thompson'),\n",
       " ('1286', '3', 'NYC', 'Foon Yue', 'Tseng'),\n",
       " ('1612', '6', 'Sydney', 'Peter', 'Marsh'),\n",
       " ('1611', '6', 'Sydney', 'Andy', 'Fixter'),\n",
       " ('1401', '4', 'Paris', 'Pamela', 'Castillo'),\n",
       " ('1621', '5', 'Tokyo', 'Mami', 'Nishi'),\n",
       " ('1323', '3', 'NYC', 'George', 'Vanauf'),\n",
       " ('1165', '1', 'San Francisco', 'Leslie', 'Jennings'),\n",
       " ('1702', '4', 'Paris', 'Martin', 'Gerard'),\n",
       " ('1216', '2', 'Boston', 'Steve', 'Patterson'),\n",
       " ('1188', '2', 'Boston', 'Julie', 'Firrelli'),\n",
       " ('1504', '7', 'London', 'Barry', 'Jones')]"
      ]
     },
     "execution_count": 8,
     "metadata": {},
     "output_type": "execute_result"
    }
   ],
   "source": [
    "#Your code here\n",
    "\n",
    "\"\"\"c.execute(''' select e.employeeNumber, of.officeCode, of.city, e.firstName, e.lastName, count(*) as total from employees e, \n",
    "                       offices of, \n",
    "                       customers c, \n",
    "                       orders o, \n",
    "                       orderDetails od,\n",
    "                       products p\n",
    "                       where (of.officeCode=e.officeCode and\n",
    "                              e.employeeNumber=c.salesRepEmployeeNumber and\n",
    "                              c.customerNumber=o.customerNumber and\n",
    "                              o.orderNumber=od.orderNumber and\n",
    "                              od.productCode=p.productCode)\n",
    "                       group by c.customerNumber,p.productCode\n",
    "                       having(total < 20)\n",
    "                       ;''').fetchall()\n",
    "\"\"\"\n",
    "\n",
    "c.execute( \"\"\" select DISTINCT e.employeeNumber, of.officeCode, of.city, e.firstName, e.lastName \n",
    "                            from employees e, \n",
    "                                 offices of, \n",
    "                                 customers c, \n",
    "                                 orders o, \n",
    "                                 orderDetails od\n",
    "                              \n",
    "                              where of.officeCode=e.officeCode and\n",
    "                                 e.employeeNumber=c.salesRepEmployeeNumber and\n",
    "                                 c.customerNumber=o.customerNumber and\n",
    "                                 o.orderNumber=od.orderNumber and\n",
    "                                 od.productCode in\n",
    "                                 \n",
    "                                \n",
    "                             (select productCode from (select p.productCode, count(*) as total from customers c, \n",
    "                              orders o, \n",
    "                              orderDetails od,\n",
    "                              products p\n",
    "                              where (c.customerNumber=o.customerNumber and\n",
    "                                     o.orderNumber=od.orderNumber and\n",
    "                                     od.productCode=p.productCode) \n",
    "                              group by p.productCode, c.customerNumber)\n",
    "                              \n",
    "                              group by productCode\n",
    "                              having(count(*) <20))\n",
    "                              \n",
    "                              \n",
    "                              \n",
    "                              ;\"\"\").fetchall()\n",
    "\n",
    "\n"
   ]
  },
  {
   "cell_type": "markdown",
   "metadata": {},
   "source": [
    "## Select the Employee Number, Name (First and Last) and Number of Customers of Employees Who's Customers Have an Average Credit Limit of Over 15K"
   ]
  },
  {
   "cell_type": "code",
   "execution_count": 10,
   "metadata": {},
   "outputs": [
    {
     "data": {
      "text/plain": [
       "[('1165', 'Leslie', 'Jennings', 42),\n",
       " ('1166', 'Leslie', 'Thompson', 42),\n",
       " ('1188', 'Julie', 'Firrelli', 42),\n",
       " ('1216', 'Steve', 'Patterson', 42),\n",
       " ('1286', 'Foon Yue', 'Tseng', 49),\n",
       " ('1323', 'George', 'Vanauf', 56),\n",
       " ('1337', 'Loui', 'Bondur', 42),\n",
       " ('1370', 'Gerard', 'Hernandez', 49),\n",
       " ('1401', 'Pamela', 'Castillo', 70),\n",
       " ('1501', 'Larry', 'Bott', 56),\n",
       " ('1504', 'Barry', 'Jones', 63),\n",
       " ('1611', 'Andy', 'Fixter', 35),\n",
       " ('1612', 'Peter', 'Marsh', 35),\n",
       " ('1621', 'Mami', 'Nishi', 35),\n",
       " ('1702', 'Martin', 'Gerard', 42)]"
      ]
     },
     "execution_count": 10,
     "metadata": {},
     "output_type": "execute_result"
    }
   ],
   "source": [
    "c.execute( \"\"\" \n",
    "select DISTINCT e.employeeNumber, e.firstName, e.LastName, \n",
    "count(*) as num_customers\n",
    "\n",
    "    from employees e, \n",
    "         offices of, \n",
    "         customers c\n",
    "\n",
    "      where e.employeeNumber=c.salesRepEmployeeNumber\n",
    "\n",
    "        and e.employeeNumber in \n",
    "        (select salesRepEmployeeNumber from customers\n",
    "        group by salesRepEmployeeNumber\n",
    "\n",
    "        having(avg(creditLimit)>15000)\n",
    "        )\n",
    "group by employeeNumber\n",
    "                                 \n",
    "\n",
    "\"\"\").fetchall()"
   ]
  },
  {
   "cell_type": "markdown",
   "metadata": {},
   "source": [
    "## Summary\n",
    "\n",
    "In this lesson, you got to practice some more complex SQL queries, some of which required subqueries. There's still plenty more SQL to be had though; hope you've been enjoying some of these puzzles!"
   ]
  }
 ],
 "metadata": {
  "kernelspec": {
   "display_name": "Python 3",
   "language": "python",
   "name": "python3"
  },
  "language_info": {
   "codemirror_mode": {
    "name": "ipython",
    "version": 3
   },
   "file_extension": ".py",
   "mimetype": "text/x-python",
   "name": "python",
   "nbconvert_exporter": "python",
   "pygments_lexer": "ipython3",
   "version": "3.6.6"
  }
 },
 "nbformat": 4,
 "nbformat_minor": 2
}
